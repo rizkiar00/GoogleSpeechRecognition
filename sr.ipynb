{
  "nbformat": 4,
  "nbformat_minor": 0,
  "metadata": {
    "colab": {
      "name": "Untitled26.ipynb",
      "provenance": [],
      "collapsed_sections": [],
      "authorship_tag": "ABX9TyM0ElR2Yu5liiWQaLQ//fe1",
      "include_colab_link": true
    },
    "kernelspec": {
      "name": "python3",
      "display_name": "Python 3"
    },
    "language_info": {
      "name": "python"
    }
  },
  "cells": [
    {
      "cell_type": "markdown",
      "metadata": {
        "id": "view-in-github",
        "colab_type": "text"
      },
      "source": [
        "<a href=\"https://colab.research.google.com/github/rizkiar00/GoogleSpeechRecognition/blob/main/sr.ipynb\" target=\"_parent\"><img src=\"https://colab.research.google.com/assets/colab-badge.svg\" alt=\"Open In Colab\"/></a>"
      ]
    },
    {
      "cell_type": "code",
      "metadata": {
        "colab": {
          "base_uri": "https://localhost:8080/",
          "height": 35
        },
        "id": "2zs-YcNGJuJn",
        "outputId": "bb0e0d79-42f0-4fb5-d47a-e91ac01f1c3c"
      },
      "source": [
        "from pytube import YouTube\n",
        "\n",
        "# creating YouTube object\n",
        "yt = YouTube(\"https://www.youtube.com/watch?v=ywqlBpP4H7Y\") \n",
        "\n",
        "# accessing audio streams of YouTube obj.(first one, more available)\n",
        "stream = yt.streams.filter(only_audio=True).first()\n",
        "# downloading a video would be: stream = yt.streams.first() \n",
        "\n",
        "# download into working directory\n",
        "stream.download()"
      ],
      "execution_count": null,
      "outputs": [
        {
          "output_type": "execute_result",
          "data": {
            "application/vnd.google.colaboratory.intrinsic+json": {
              "type": "string"
            },
            "text/plain": [
              "'/content/今回の件について.mp4'"
            ]
          },
          "metadata": {
            "tags": []
          },
          "execution_count": 95
        }
      ]
    },
    {
      "cell_type": "code",
      "metadata": {
        "colab": {
          "base_uri": "https://localhost:8080/"
        },
        "id": "Dmptzv5uRLGv",
        "outputId": "218438da-80a2-4f02-929c-9a117343dc20"
      },
      "source": [
        "yt.length"
      ],
      "execution_count": null,
      "outputs": [
        {
          "output_type": "execute_result",
          "data": {
            "text/plain": [
              "204"
            ]
          },
          "metadata": {
            "tags": []
          },
          "execution_count": 96
        }
      ]
    },
    {
      "cell_type": "code",
      "metadata": {
        "colab": {
          "base_uri": "https://localhost:8080/"
        },
        "id": "i59K-iQgKKqg",
        "outputId": "4eb4f077-2921-46ea-885f-3f42f4608ab7"
      },
      "source": [
        "import subprocess\n",
        "\n",
        "command = \"ffmpeg -i /content/今回の件について.mp4 -ab 160k -ac 2 -ar 44100 -vn audio.wav\"\n",
        "\n",
        "subprocess.call(command, shell=True)"
      ],
      "execution_count": null,
      "outputs": [
        {
          "output_type": "execute_result",
          "data": {
            "text/plain": [
              "1"
            ]
          },
          "metadata": {
            "tags": []
          },
          "execution_count": 97
        }
      ]
    },
    {
      "cell_type": "code",
      "metadata": {
        "colab": {
          "base_uri": "https://localhost:8080/"
        },
        "id": "D0QYohjsL7Ll",
        "outputId": "921e4cd0-8999-4f7b-c7a5-40b8e5820fd5"
      },
      "source": [
        "import speech_recognition as sr\n",
        "recognizer = sr.Recognizer()\n",
        "audio_file = sr.AudioFile(\"/content/audio.wav\")\n",
        "type(audio_file)\n",
        "\n"
      ],
      "execution_count": null,
      "outputs": [
        {
          "output_type": "execute_result",
          "data": {
            "text/plain": [
              "speech_recognition.AudioFile"
            ]
          },
          "metadata": {
            "tags": []
          },
          "execution_count": 98
        }
      ]
    },
    {
      "cell_type": "code",
      "metadata": {
        "id": "nDo0Tn_lMI5v"
      },
      "source": [
        "with audio_file_ as source:\n",
        "  audio_file = recognizer.record(source, duration = yt.length)\n",
        "  result = recognizer.recognize_google(audio_data=audio_file, language='ja-JP')"
      ],
      "execution_count": null,
      "outputs": []
    },
    {
      "cell_type": "code",
      "metadata": {
        "id": "3Vtpobi-R6hP",
        "colab": {
          "base_uri": "https://localhost:8080/"
        },
        "outputId": "e291477c-ba38-48e7-a71c-cbbb0cd82974"
      },
      "source": [
        "print(result)"
      ],
      "execution_count": null,
      "outputs": [
        {
          "output_type": "stream",
          "text": [
            "聞こえておりますでしょうか 大丈夫ですか ちょっと コメント お待ちます はい ありがとうございます 大丈夫そうなので始めていきたいと思います このない無所属の さくら みこで魔女 先日 配信ないで 創作物に対しての配慮の足りない 扱いや言動により 創作活動に携わる 多くの方にご迷惑をおかけしたことを改めて謝らせてください この度は ファンや 関係者の皆様にも 多大なるご迷惑をおかけして大変申し訳ありませんでした ここからは今後の作者様にご迷惑にならない範囲で今回の権威の説明をさせていただきます 先週 このチャンネルで行ったオフ コラボの配信外の企画で 作者様の創作物を購入し 配信で使用させて頂いた際に作品が特定できるような発言や創作物の内容に対して作者様や界隈の方にとって不快に思われるような 誤解を生んでしまう言動をとってしまいました その後 本家2つ\n"
          ],
          "name": "stdout"
        }
      ]
    },
    {
      "cell_type": "code",
      "metadata": {
        "id": "1zRbm79Zs-mG"
      },
      "source": [
        ""
      ],
      "execution_count": null,
      "outputs": []
    }
  ]
}